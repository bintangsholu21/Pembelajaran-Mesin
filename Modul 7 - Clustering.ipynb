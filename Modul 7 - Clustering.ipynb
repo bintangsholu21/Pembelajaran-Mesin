{
  "nbformat": 4,
  "nbformat_minor": 0,
  "metadata": {
    "colab": {
      "provenance": [],
      "toc_visible": true,
      "authorship_tag": "ABX9TyMPAUy72P+YPwJfi1p5NToE",
      "include_colab_link": true
    },
    "kernelspec": {
      "name": "python3",
      "display_name": "Python 3"
    },
    "language_info": {
      "name": "python"
    }
  },
  "cells": [
    {
      "cell_type": "markdown",
      "metadata": {
        "id": "view-in-github",
        "colab_type": "text"
      },
      "source": [
        "<a href=\"https://colab.research.google.com/github/bintangsholu21/Pembelajaran-Mesin/blob/main/Modul%207%20-%20Clustering.ipynb\" target=\"_parent\"><img src=\"https://colab.research.google.com/assets/colab-badge.svg\" alt=\"Open In Colab\"/></a>"
      ]
    },
    {
      "cell_type": "markdown",
      "source": [
        "# **Job Sheet 7: Clustering**\n",
        "\n",
        "#### **Pembelajaran Mesin**\n",
        "\n",
        "* Nama : Muhammad Bintang Sholu Firmansyah\n",
        "* Kelas : TI - 3G\n",
        "* NIM : 2141720101\n",
        "* No Absen : 16\n",
        "\n",
        "*Github Link https://github.com/bintangsholu21/Pembelajaran-Mesin*\n"
      ],
      "metadata": {
        "id": "zuIoS8eRvbnS"
      }
    },
    {
      "cell_type": "markdown",
      "source": [
        "---\n",
        "\n",
        "#### **Praktikum 1**\n"
      ],
      "metadata": {
        "id": "nTmPm10ytr5p"
      }
    },
    {
      "cell_type": "markdown",
      "source": [
        "`\n",
        "iris.csv\n",
        "`"
      ],
      "metadata": {
        "id": "I6yK2pnTuFnu"
      }
    },
    {
      "cell_type": "markdown",
      "source": [
        "**KMeans**\n",
        "\n",
        "KMeans adalah satu metode unsupervised learning pada machine learning. Metode ini menentukan jumlah cluster sesuai dengan jumlah  yang dipilih. Proses KMeans secara manual, dapat dilihat pada tautan berikut,\n",
        "\n",
        "\n",
        "*Perhitungan Manual KMeans*\n",
        "\n",
        "Pada modul jobsheet ini, kita akan langsung mempraktikkan pembuatan model KMeans dengan menggunakan python. Untuk modul pertama ini, kita akan menggunakan contoh kasus yang sederhana, yaitu dengan menggunakan dataset iris. Sedangkan untuk modul kedua, kita akan melakukan clustering dengan lebih advance, yaitu reduksi warna dengan data gambar"
      ],
      "metadata": {
        "id": "tvauw4X0uKJI"
      }
    }
  ]
}