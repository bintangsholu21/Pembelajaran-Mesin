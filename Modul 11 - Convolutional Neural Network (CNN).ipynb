{
  "nbformat": 4,
  "nbformat_minor": 0,
  "metadata": {
    "colab": {
      "provenance": [],
      "gpuType": "T4",
      "include_colab_link": true
    },
    "kernelspec": {
      "name": "python3",
      "display_name": "Python 3"
    },
    "language_info": {
      "name": "python"
    },
    "accelerator": "GPU"
  },
  "cells": [
    {
      "cell_type": "markdown",
      "metadata": {
        "id": "view-in-github",
        "colab_type": "text"
      },
      "source": [
        "<a href=\"https://colab.research.google.com/github/bintangsholu21/Pembelajaran-Mesin/blob/main/Modul%2011%20-%20Convolutional%20Neural%20Network%20(CNN).ipynb\" target=\"_parent\"><img src=\"https://colab.research.google.com/assets/colab-badge.svg\" alt=\"Open In Colab\"/></a>"
      ]
    },
    {
      "cell_type": "markdown",
      "source": [
        "# **Job Sheet 11: Convolutional Neural Network (CNN)**\n",
        "\n",
        "#### **Pembelajaran Mesin**\n",
        "\n",
        "* Nama : Muhammad Bintang Sholu Firmansyah\n",
        "* Kelas : TI - 3G\n",
        "* NIM : 2141720101\n",
        "* No Absen : 16\n",
        "\n",
        "*Github Link https://github.com/bintangsholu21/Pembelajaran-Mesin*\n"
      ],
      "metadata": {
        "id": "zuIoS8eRvbnS"
      }
    },
    {
      "cell_type": "markdown",
      "source": [
        "---\n",
        "## **Praktikum 1**\n",
        "\n",
        "#### **Klasifikasi 🐱 dan 🐶**"
      ],
      "metadata": {
        "id": "nTmPm10ytr5p"
      }
    },
    {
      "cell_type": "markdown",
      "source": [
        "**Deskripsi**\n",
        "\n",
        "Pada praktikum ini kita akan membuat model klasifikasi CNN sederhana pada kasus citra kucing dan anjing."
      ],
      "metadata": {
        "id": "iSotTDODTUqi"
      }
    },
    {
      "cell_type": "markdown",
      "source": [
        "**Dataset**\n",
        "\n",
        "Dataset merupakan data citra anjing dan kucing yang telah dibagi menjadi data training dan data testing. Dikarenakan data cukup besar, pastikan koneksi Anda sebelum mengunduh dataset.\n",
        "\n",
        "\n",
        "https://drive.google.com/file/d/1vYrqBI1VmiXXJd5sgtKK2nuQvC8T1ryb/view?usp=drive_link\n"
      ],
      "metadata": {
        "id": "YfrWuId6Ti7c"
      }
    },
    {
      "cell_type": "markdown",
      "source": [
        "### **Langkah 1 - Import Library**"
      ],
      "metadata": {
        "id": "-dm6qdlpTphI"
      }
    },
    {
      "cell_type": "code",
      "source": [
        "import tensorflow as tf\n",
        "from keras.preprocessing.image import ImageDataGenerator"
      ],
      "metadata": {
        "id": "UdZL1gLzTxuW"
      },
      "execution_count": null,
      "outputs": []
    },
    {
      "cell_type": "markdown",
      "source": [
        "### **Langkah 2 - Pra Pengolahan Data**\n",
        "\n",
        "Pada tahap ini kita akan sedikit melakukan manipulasi pada citra yang digunakan. Manipulasi yang dilakukan diantaranya adalah normalisasi nilai piksel, koreksi kemiringan, pembesaran (zoom), dan flip."
      ],
      "metadata": {
        "id": "LVmX3gQbT0hr"
      }
    },
    {
      "cell_type": "markdown",
      "source": [
        "#### **Langkah 2.1. Pra Pengolahan Data Training**"
      ],
      "metadata": {
        "id": "hMikS8LAT5cZ"
      }
    },
    {
      "cell_type": "code",
      "source": [
        "train_datagen = ImageDataGenerator(rescale = 1./255,\n",
        "                                   shear_range = 0.2,\n",
        "                                   zoom_range = 0.2,\n",
        "                                   horizontal_flip = True)\n",
        "training_set = train_datagen.flow_from_directory('/content/drive/MyDrive/Machine Learning/dataset/training_set',\n",
        "                                                 target_size = (64, 64),\n",
        "                                                 batch_size = 32,\n",
        "                                                 class_mode = 'binary')"
      ],
      "metadata": {
        "id": "Qdel_g5PT8tH",
        "colab": {
          "base_uri": "https://localhost:8080/"
        },
        "outputId": "c4afc80c-d380-4cda-d47e-c5dc5550e858"
      },
      "execution_count": null,
      "outputs": [
        {
          "output_type": "stream",
          "name": "stdout",
          "text": [
            "Found 8000 images belonging to 2 classes.\n"
          ]
        }
      ]
    },
    {
      "cell_type": "markdown",
      "source": [
        "#### **Langkah 2.2. Pra Pengolahan Data Testing**"
      ],
      "metadata": {
        "id": "5yf2YmHJUCaj"
      }
    },
    {
      "cell_type": "code",
      "source": [
        "test_datagen = ImageDataGenerator(rescale = 1./255)\n",
        "test_set = test_datagen.flow_from_directory('/content/drive/MyDrive/Machine Learning/dataset/test_set',\n",
        "                                            target_size = (64, 64),\n",
        "                                            batch_size = 32,\n",
        "                                            class_mode = 'binary')"
      ],
      "metadata": {
        "id": "UTlbCYdLUEzJ",
        "colab": {
          "base_uri": "https://localhost:8080/"
        },
        "outputId": "fb11074b-3917-49b2-9620-2f6b406b4b16"
      },
      "execution_count": null,
      "outputs": [
        {
          "output_type": "stream",
          "name": "stdout",
          "text": [
            "Found 2000 images belonging to 2 classes.\n"
          ]
        }
      ]
    },
    {
      "cell_type": "markdown",
      "source": [
        "### **Langkah 3 - Pembuatan Model CNN**"
      ],
      "metadata": {
        "id": "8PBzUpptUGV3"
      }
    },
    {
      "cell_type": "markdown",
      "source": [
        "#### **Langkah 3.1.  - Inisiasi Model CNN**"
      ],
      "metadata": {
        "id": "mRWaeWLKUJDL"
      }
    },
    {
      "cell_type": "code",
      "source": [
        "cnn = tf.keras.models.Sequential()"
      ],
      "metadata": {
        "id": "vomcVRyAULbZ"
      },
      "execution_count": null,
      "outputs": []
    },
    {
      "cell_type": "markdown",
      "source": [
        "#### **Langkah 3.2. - Pembuatan Layer Konvolusi 1**"
      ],
      "metadata": {
        "id": "kbeVFq9EUMnk"
      }
    },
    {
      "cell_type": "code",
      "source": [
        "cnn.add(tf.keras.layers.Conv2D(filters=32, kernel_size=3, activation='relu', input_shape=[64, 64, 3]))"
      ],
      "metadata": {
        "id": "ftW2aQabUQf6"
      },
      "execution_count": null,
      "outputs": []
    },
    {
      "cell_type": "markdown",
      "source": [
        "#### **Langkah 3.3 - Pembuatan Layer Pooling 1**"
      ],
      "metadata": {
        "id": "E2AotFQtUPgZ"
      }
    },
    {
      "cell_type": "code",
      "source": [
        "cnn.add(tf.keras.layers.MaxPool2D(pool_size=2, strides=2))"
      ],
      "metadata": {
        "id": "Q-CxXCg_UUuA"
      },
      "execution_count": null,
      "outputs": []
    },
    {
      "cell_type": "markdown",
      "source": [
        "#### **Langkah 3.4 - Pembuatan Layer Konvolusi 2 dan Pooling 2**"
      ],
      "metadata": {
        "id": "GrbGZjvSUYiD"
      }
    },
    {
      "cell_type": "code",
      "source": [
        "cnn.add(tf.keras.layers.Conv2D(filters=32, kernel_size=3, activation='relu'))\n",
        "cnn.add(tf.keras.layers.MaxPool2D(pool_size=2, strides=2))"
      ],
      "metadata": {
        "id": "Lslu2VjrUax_"
      },
      "execution_count": null,
      "outputs": []
    },
    {
      "cell_type": "markdown",
      "source": [
        "#### **Langkah 3.5 - Flattening**"
      ],
      "metadata": {
        "id": "gF8g-tCWUb6z"
      }
    },
    {
      "cell_type": "code",
      "source": [
        "cnn.add(tf.keras.layers.Flatten())"
      ],
      "metadata": {
        "id": "vjBrokqsUdx3"
      },
      "execution_count": null,
      "outputs": []
    },
    {
      "cell_type": "markdown",
      "source": [
        "#### **Langkah 3.6 - Fully Connected Layer 1 (Input)**"
      ],
      "metadata": {
        "id": "i3inyUQXUfEF"
      }
    },
    {
      "cell_type": "code",
      "source": [
        "cnn.add(tf.keras.layers.Dense(units=128, activation='relu'))"
      ],
      "metadata": {
        "id": "s72yFpQBUg_P"
      },
      "execution_count": null,
      "outputs": []
    },
    {
      "cell_type": "markdown",
      "source": [
        "#### **Langkah 3.7 - Fully Connected Layer 2 (Output)**"
      ],
      "metadata": {
        "id": "Y4U2YUidUjhq"
      }
    },
    {
      "cell_type": "code",
      "source": [
        "cnn.add(tf.keras.layers.Dense(units=1, activation='sigmoid'))"
      ],
      "metadata": {
        "id": "v4NYvjbKUmyA"
      },
      "execution_count": null,
      "outputs": []
    },
    {
      "cell_type": "markdown",
      "source": [
        "#### **Langkah 3.8 - Compile Model CNN**"
      ],
      "metadata": {
        "id": "anFbXNmxUoCV"
      }
    },
    {
      "cell_type": "code",
      "source": [
        "cnn.compile(optimizer = 'adam', loss = 'binary_crossentropy', metrics = ['accuracy'])"
      ],
      "metadata": {
        "id": "G1W0e2pfUn4T"
      },
      "execution_count": null,
      "outputs": []
    },
    {
      "cell_type": "markdown",
      "source": [
        "Penggunaan *loss function binary crossentropy* dikarenakan kita hanya melakukan klasifikasi pada dua kelas, yaitu kucing dan anjing."
      ],
      "metadata": {
        "id": "fVU3UoJ2Utcy"
      }
    },
    {
      "cell_type": "markdown",
      "source": [
        "### **Langkah 4 - Fit CNN**"
      ],
      "metadata": {
        "id": "hbieGHxQUwte"
      }
    },
    {
      "cell_type": "code",
      "source": [
        "cnn.fit(x = training_set, validation_data = test_set, epochs = 25)"
      ],
      "metadata": {
        "id": "04v3EcO1Uzlw",
        "colab": {
          "base_uri": "https://localhost:8080/"
        },
        "outputId": "8f5cdd83-cbd9-4e38-c177-75f46ba1d99e"
      },
      "execution_count": null,
      "outputs": [
        {
          "output_type": "stream",
          "name": "stdout",
          "text": [
            "Epoch 1/25\n",
            "250/250 [==============================] - 1035s 4s/step - loss: 0.6710 - accuracy: 0.5874 - val_loss: 0.5909 - val_accuracy: 0.6865\n",
            "Epoch 2/25\n",
            "250/250 [==============================] - 36s 145ms/step - loss: 0.6004 - accuracy: 0.6783 - val_loss: 0.5940 - val_accuracy: 0.6905\n",
            "Epoch 3/25\n",
            "250/250 [==============================] - 37s 148ms/step - loss: 0.5620 - accuracy: 0.7145 - val_loss: 0.7160 - val_accuracy: 0.6355\n",
            "Epoch 4/25\n",
            "250/250 [==============================] - 36s 145ms/step - loss: 0.5363 - accuracy: 0.7299 - val_loss: 0.5566 - val_accuracy: 0.7410\n",
            "Epoch 5/25\n",
            "250/250 [==============================] - 36s 144ms/step - loss: 0.5159 - accuracy: 0.7420 - val_loss: 0.5484 - val_accuracy: 0.7425\n",
            "Epoch 6/25\n",
            "250/250 [==============================] - 36s 145ms/step - loss: 0.4942 - accuracy: 0.7636 - val_loss: 0.5102 - val_accuracy: 0.7705\n",
            "Epoch 7/25\n",
            "250/250 [==============================] - 37s 148ms/step - loss: 0.4776 - accuracy: 0.7648 - val_loss: 0.4981 - val_accuracy: 0.7720\n",
            "Epoch 8/25\n",
            "250/250 [==============================] - 37s 148ms/step - loss: 0.4754 - accuracy: 0.7706 - val_loss: 0.4839 - val_accuracy: 0.7765\n",
            "Epoch 9/25\n",
            "250/250 [==============================] - 36s 146ms/step - loss: 0.4458 - accuracy: 0.7926 - val_loss: 0.4997 - val_accuracy: 0.7645\n",
            "Epoch 10/25\n",
            "250/250 [==============================] - 36s 145ms/step - loss: 0.4296 - accuracy: 0.7995 - val_loss: 0.4565 - val_accuracy: 0.7985\n",
            "Epoch 11/25\n",
            "250/250 [==============================] - 37s 148ms/step - loss: 0.4157 - accuracy: 0.8090 - val_loss: 0.4804 - val_accuracy: 0.7775\n",
            "Epoch 12/25\n",
            "250/250 [==============================] - 39s 154ms/step - loss: 0.4080 - accuracy: 0.8164 - val_loss: 0.4950 - val_accuracy: 0.7920\n",
            "Epoch 13/25\n",
            "250/250 [==============================] - 40s 159ms/step - loss: 0.3935 - accuracy: 0.8186 - val_loss: 0.4894 - val_accuracy: 0.7830\n",
            "Epoch 14/25\n",
            "250/250 [==============================] - 43s 173ms/step - loss: 0.3812 - accuracy: 0.8254 - val_loss: 0.4715 - val_accuracy: 0.8085\n",
            "Epoch 15/25\n",
            "250/250 [==============================] - 38s 154ms/step - loss: 0.3735 - accuracy: 0.8331 - val_loss: 0.4791 - val_accuracy: 0.7975\n",
            "Epoch 16/25\n",
            "250/250 [==============================] - 44s 175ms/step - loss: 0.3490 - accuracy: 0.8416 - val_loss: 0.4817 - val_accuracy: 0.7950\n",
            "Epoch 17/25\n",
            "250/250 [==============================] - 42s 169ms/step - loss: 0.3381 - accuracy: 0.8493 - val_loss: 0.4756 - val_accuracy: 0.8035\n",
            "Epoch 18/25\n",
            "250/250 [==============================] - 36s 145ms/step - loss: 0.3258 - accuracy: 0.8554 - val_loss: 0.5137 - val_accuracy: 0.7995\n",
            "Epoch 19/25\n",
            "250/250 [==============================] - 36s 145ms/step - loss: 0.3120 - accuracy: 0.8620 - val_loss: 0.5097 - val_accuracy: 0.7890\n",
            "Epoch 20/25\n",
            "250/250 [==============================] - 36s 144ms/step - loss: 0.3045 - accuracy: 0.8680 - val_loss: 0.4781 - val_accuracy: 0.7950\n",
            "Epoch 21/25\n",
            "250/250 [==============================] - 36s 145ms/step - loss: 0.2846 - accuracy: 0.8784 - val_loss: 0.5176 - val_accuracy: 0.7950\n",
            "Epoch 22/25\n",
            "250/250 [==============================] - 36s 143ms/step - loss: 0.2744 - accuracy: 0.8824 - val_loss: 0.5347 - val_accuracy: 0.7985\n",
            "Epoch 23/25\n",
            "250/250 [==============================] - 37s 147ms/step - loss: 0.2635 - accuracy: 0.8923 - val_loss: 0.5699 - val_accuracy: 0.7915\n",
            "Epoch 24/25\n",
            "250/250 [==============================] - 42s 168ms/step - loss: 0.2599 - accuracy: 0.8928 - val_loss: 0.4933 - val_accuracy: 0.8050\n",
            "Epoch 25/25\n",
            "250/250 [==============================] - 36s 146ms/step - loss: 0.2373 - accuracy: 0.9006 - val_loss: 0.5430 - val_accuracy: 0.7970\n"
          ]
        },
        {
          "output_type": "execute_result",
          "data": {
            "text/plain": [
              "<keras.src.callbacks.History at 0x7daa7cee7ac0>"
            ]
          },
          "metadata": {},
          "execution_count": 12
        }
      ]
    },
    {
      "cell_type": "markdown",
      "source": [
        "### **Langkah 5 - Prediksi dengan 1 Citra**\n",
        "\n",
        "Pada langkah ini, kita akan mencoba melakukan prediksi pada 1 citra anjing dan kucing."
      ],
      "metadata": {
        "id": "0TlthHzkUzA_"
      }
    },
    {
      "cell_type": "code",
      "source": [
        "import numpy as np\n",
        "from keras.preprocessing import image\n",
        "test_image = image.load_img('/content/drive/MyDrive/Machine Learning/dataset/single_prediction/cat_or_dog_1.jpg', target_size = (64, 64))\n",
        "test_image = image.img_to_array(test_image)\n",
        "test_image = np.expand_dims(test_image, axis = 0)\n",
        "result = cnn.predict(test_image)\n",
        "training_set.class_indices\n",
        "if result[0][0] == 1:\n",
        "  prediction = 'dog'\n",
        "else:\n",
        "  prediction = 'cat'"
      ],
      "metadata": {
        "id": "xgYFzjUsU8Se",
        "colab": {
          "base_uri": "https://localhost:8080/"
        },
        "outputId": "c0b5f965-6da6-49ab-9f0c-b3fb047c4345"
      },
      "execution_count": null,
      "outputs": [
        {
          "output_type": "stream",
          "name": "stdout",
          "text": [
            "1/1 [==============================] - 0s 219ms/step\n"
          ]
        }
      ]
    }
  ]
}